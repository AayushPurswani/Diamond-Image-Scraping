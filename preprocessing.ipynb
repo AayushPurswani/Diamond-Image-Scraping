{
 "cells": [
  {
   "cell_type": "markdown",
   "metadata": {},
   "source": [
    "The making of the Diamond Dataset \n",
    "\n"
   ]
  },
  {
   "cell_type": "code",
   "execution_count": 11,
   "metadata": {},
   "outputs": [],
   "source": [
    "# All pip install statements go here. \n",
    "\n",
    "# !pip install pandas\n",
    "# !pip install pillow\n",
    "# !pip install ImageHash"
   ]
  },
  {
   "cell_type": "code",
   "execution_count": 1,
   "metadata": {},
   "outputs": [],
   "source": [
    "# All import statements go here \n",
    "\n",
    "import pandas as pd\n",
    "import numpy as np \n",
    "from PIL import Image\n",
    "import imagehash\n",
    "import os\n",
    "import requests\n",
    "from bs4 import BeautifulSoup\n",
    "from urllib.parse import urljoin\n"
   ]
  },
  {
   "cell_type": "code",
   "execution_count": 22,
   "metadata": {},
   "outputs": [],
   "source": [
    "diamond = pd.read_csv(r'/home/levi/Desktop/Work/Diamond Project/Diamonds/Diamonds/data_round.csv')\n",
    "diamond2 = pd.read_csv(r'/home/levi/Desktop/Work/Diamond Project/Diamonds2/data_round.csv')"
   ]
  },
  {
   "cell_type": "code",
   "execution_count": 23,
   "metadata": {},
   "outputs": [
    {
     "data": {
      "text/html": [
       "<div>\n",
       "<style scoped>\n",
       "    .dataframe tbody tr th:only-of-type {\n",
       "        vertical-align: middle;\n",
       "    }\n",
       "\n",
       "    .dataframe tbody tr th {\n",
       "        vertical-align: top;\n",
       "    }\n",
       "\n",
       "    .dataframe thead th {\n",
       "        text-align: right;\n",
       "    }\n",
       "</style>\n",
       "<table border=\"1\" class=\"dataframe\">\n",
       "  <thead>\n",
       "    <tr style=\"text-align: right;\">\n",
       "      <th></th>\n",
       "      <th>Id</th>\n",
       "      <th>Shape</th>\n",
       "      <th>Weight</th>\n",
       "      <th>Clarity</th>\n",
       "      <th>Colour</th>\n",
       "      <th>Cut</th>\n",
       "      <th>Polish</th>\n",
       "      <th>Symmetry</th>\n",
       "      <th>Fluorescence</th>\n",
       "      <th>Messurements</th>\n",
       "      <th>Price</th>\n",
       "      <th>Data Url</th>\n",
       "    </tr>\n",
       "  </thead>\n",
       "  <tbody>\n",
       "    <tr>\n",
       "      <th>0</th>\n",
       "      <td>1795561</td>\n",
       "      <td>ROUND</td>\n",
       "      <td>0.3</td>\n",
       "      <td>SI2</td>\n",
       "      <td>K</td>\n",
       "      <td>EX</td>\n",
       "      <td>VG</td>\n",
       "      <td>EX</td>\n",
       "      <td>F</td>\n",
       "      <td>4.32-4.34×2.69</td>\n",
       "      <td>655.38</td>\n",
       "      <td>https://capitalwholesalediamonds.com/product/0...</td>\n",
       "    </tr>\n",
       "    <tr>\n",
       "      <th>1</th>\n",
       "      <td>1789678</td>\n",
       "      <td>ROUND</td>\n",
       "      <td>0.3</td>\n",
       "      <td>VS1</td>\n",
       "      <td>L</td>\n",
       "      <td>GD</td>\n",
       "      <td>VG</td>\n",
       "      <td>VG</td>\n",
       "      <td>N</td>\n",
       "      <td>4.36-4.40×2.56</td>\n",
       "      <td>686.87</td>\n",
       "      <td>https://capitalwholesalediamonds.com/product/0...</td>\n",
       "    </tr>\n",
       "    <tr>\n",
       "      <th>2</th>\n",
       "      <td>1791701</td>\n",
       "      <td>ROUND</td>\n",
       "      <td>0.3</td>\n",
       "      <td>SI1</td>\n",
       "      <td>K</td>\n",
       "      <td>EX</td>\n",
       "      <td>VG</td>\n",
       "      <td>EX</td>\n",
       "      <td>N</td>\n",
       "      <td>4.28-4.31×2.69</td>\n",
       "      <td>692.93</td>\n",
       "      <td>https://capitalwholesalediamonds.com/product/0...</td>\n",
       "    </tr>\n",
       "    <tr>\n",
       "      <th>3</th>\n",
       "      <td>1799570</td>\n",
       "      <td>ROUND</td>\n",
       "      <td>0.3</td>\n",
       "      <td>SI1</td>\n",
       "      <td>L</td>\n",
       "      <td>VG</td>\n",
       "      <td>VG</td>\n",
       "      <td>VG</td>\n",
       "      <td>ST</td>\n",
       "      <td>4.27-4.30×2.68</td>\n",
       "      <td>693.42</td>\n",
       "      <td>https://capitalwholesalediamonds.com/product/0...</td>\n",
       "    </tr>\n",
       "    <tr>\n",
       "      <th>4</th>\n",
       "      <td>1774058</td>\n",
       "      <td>ROUND</td>\n",
       "      <td>0.4</td>\n",
       "      <td>VS2</td>\n",
       "      <td>Q-R</td>\n",
       "      <td>EX</td>\n",
       "      <td>EX</td>\n",
       "      <td>EX</td>\n",
       "      <td>N</td>\n",
       "      <td>4.72-4.75×2.91</td>\n",
       "      <td>701.01</td>\n",
       "      <td>https://capitalwholesalediamonds.com/product/0...</td>\n",
       "    </tr>\n",
       "  </tbody>\n",
       "</table>\n",
       "</div>"
      ],
      "text/plain": [
       "        Id  Shape  Weight Clarity Colour Cut Polish Symmetry Fluorescence  \\\n",
       "0  1795561  ROUND     0.3     SI2      K  EX     VG       EX            F   \n",
       "1  1789678  ROUND     0.3     VS1      L  GD     VG       VG            N   \n",
       "2  1791701  ROUND     0.3     SI1      K  EX     VG       EX            N   \n",
       "3  1799570  ROUND     0.3     SI1      L  VG     VG       VG           ST   \n",
       "4  1774058  ROUND     0.4     VS2    Q-R  EX     EX       EX            N   \n",
       "\n",
       "     Messurements   Price                                           Data Url  \n",
       "0  4.32-4.34×2.69  655.38  https://capitalwholesalediamonds.com/product/0...  \n",
       "1  4.36-4.40×2.56  686.87  https://capitalwholesalediamonds.com/product/0...  \n",
       "2  4.28-4.31×2.69  692.93  https://capitalwholesalediamonds.com/product/0...  \n",
       "3  4.27-4.30×2.68  693.42  https://capitalwholesalediamonds.com/product/0...  \n",
       "4  4.72-4.75×2.91  701.01  https://capitalwholesalediamonds.com/product/0...  "
      ]
     },
     "execution_count": 23,
     "metadata": {},
     "output_type": "execute_result"
    }
   ],
   "source": [
    "diamond.head()"
   ]
  },
  {
   "cell_type": "code",
   "execution_count": 15,
   "metadata": {},
   "outputs": [
    {
     "data": {
      "text/plain": [
       "(2141, 12)"
      ]
     },
     "execution_count": 15,
     "metadata": {},
     "output_type": "execute_result"
    }
   ],
   "source": [
    "diamond.shape"
   ]
  },
  {
   "cell_type": "markdown",
   "metadata": {},
   "source": [
    "There is a chance that the id number in the table corresponds to the name that the jpg file is saved with. <br>\n",
    "Also there are a few images where the image does not exist and says \"There is no preview available for this file.<br>\n",
    "There are 2141 rows but there are only 1212 round diamond images, also there are plenty of images in which the preview is not available. "
   ]
  },
  {
   "cell_type": "code",
   "execution_count": 24,
   "metadata": {},
   "outputs": [
    {
     "data": {
      "text/plain": [
       "Shape\n",
       "ROUND    2141\n",
       "Name: count, dtype: int64"
      ]
     },
     "execution_count": 24,
     "metadata": {},
     "output_type": "execute_result"
    }
   ],
   "source": [
    "diamond['Shape'].value_counts()"
   ]
  },
  {
   "cell_type": "code",
   "execution_count": 34,
   "metadata": {},
   "outputs": [
    {
     "data": {
      "text/html": [
       "<div>\n",
       "<style scoped>\n",
       "    .dataframe tbody tr th:only-of-type {\n",
       "        vertical-align: middle;\n",
       "    }\n",
       "\n",
       "    .dataframe tbody tr th {\n",
       "        vertical-align: top;\n",
       "    }\n",
       "\n",
       "    .dataframe thead th {\n",
       "        text-align: right;\n",
       "    }\n",
       "</style>\n",
       "<table border=\"1\" class=\"dataframe\">\n",
       "  <thead>\n",
       "    <tr style=\"text-align: right;\">\n",
       "      <th></th>\n",
       "      <th>Id</th>\n",
       "      <th>Shape</th>\n",
       "      <th>Weight</th>\n",
       "      <th>Clarity</th>\n",
       "      <th>Colour</th>\n",
       "      <th>Cut</th>\n",
       "      <th>Polish</th>\n",
       "      <th>Symmetry</th>\n",
       "      <th>Fluorescence</th>\n",
       "      <th>Messurements</th>\n",
       "      <th>Price</th>\n",
       "      <th>Data Url</th>\n",
       "    </tr>\n",
       "  </thead>\n",
       "  <tbody>\n",
       "  </tbody>\n",
       "</table>\n",
       "</div>"
      ],
      "text/plain": [
       "Empty DataFrame\n",
       "Columns: [Id, Shape, Weight, Clarity, Colour, Cut, Polish, Symmetry, Fluorescence, Messurements, Price, Data Url]\n",
       "Index: []"
      ]
     },
     "execution_count": 34,
     "metadata": {},
     "output_type": "execute_result"
    }
   ],
   "source": [
    "diamond[diamond['Id'] == '2052906']"
   ]
  },
  {
   "cell_type": "markdown",
   "metadata": {},
   "source": [
    "All the repeated images must be deleted from the dataset. They are quite useless. "
   ]
  },
  {
   "cell_type": "code",
   "execution_count": 18,
   "metadata": {},
   "outputs": [
    {
     "name": "stdout",
     "output_type": "stream",
     "text": [
      "['1774818.png', '1743508.jpg', '1655715.jpg', '1653342.jpg', '1655686.jpg', '1604692.jpg', '1786220.jpg', '1783341.jpg', '1775142.jpg', '1752530.jpg', '1792603.png', '1754052.png', '1773169.png', '1799315.jpg', '1796524.jpg', '1662043.png', '1791571.jpg', '1790488.jpg', '1649791.jpg', '1751191.jpg', '1668649.jpg', '1668740.jpg', '1792132.png', '1647553.png', '1789490.png', '1635556.jpg', '1664005.jpg', '1764391.jpg', '1773410.jpg', '1655955.jpg', '1671073.jpg', '1799237.png', '1777102.jpg', '1653574.jpg', '1615786.jpg', '1742847.jpg', '1775022.jpg', '1787267.jpg', '1657323.jpg', '1801890.png', '1663757.jpg', '1781065.jpg', '1649732.jpg', '1762281.jpg', '1762504.jpg', '1783319.jpg', '1758408.jpg', '1665360.jpg', '1657392.jpg', '1787261.jpg', '1802052.png', '1673057.png', '1757757.png', '1657249.jpg', '1662542.jpg', '1792133.png', '1765948.jpg', '1751169.jpg', '1756089.jpg', '1659543.jpg', '1768417.png', '1657110.jpg', '1753717.png', '1756179.jpg', '1627757.jpg', '1748410.png', '1772177.jpg', '1756947.jpg', '1783466.jpg', '1767557.jpg', '1659915.jpg', '1768989.jpg', '1784452.jpg', '1782414.jpg', '1789534.jpg', '1649750.jpg', '1792802.jpg', '1672690.jpg', '1658718.jpg', '1658625.jpg', '1733711.jpg', '1783440.jpg', '1633467.jpg', '1576883.png', '1787244.jpg', '1780583.jpg', '1760312.jpg', '1637775.jpg', '1666827.jpg', '1768508.png', '1763125.jpg', '1592360.png', '1795312.jpg', '1754042.jpg', '1745729.jpg', '1784907.jpg', '1668452.jpg', '1795355.jpg', '1648312.jpg', '1788801.jpg', '1748402.png', '1648553.jpg', '1789695.jpg', '1663769.jpg', '1770229.jpg', '1758886.jpg', '1655282.png', '1655697.jpg', '1780721.jpg', '1595337.jpg', '1764717.png', '1775881.jpg', '1764523.jpg', '1763839.png', '1779229.jpg', '1778098.jpg', '1668906.jpg', '1666348.jpg', '1660942.jpg', '1617469.jpg', '1662435.jpg', '1684775.png', '1757759.jpg', '1729937.png', '1643266.jpg', '1671709.jpg', '1784477.jpg', '1671238.jpg', '1797915.jpg', '1667894.jpg', '1746687.jpg', '1621880.jpg', '1766282.jpg', '1581565.png', '1760285.jpg', '1618279.png', '1787139.jpg', '1637454.png', '1792928.jpg', '1653239.jpg', '1744872.jpg', '1788672.jpg', '1744499.jpg', '1790561.jpg', '1641873.jpg', '1667677.jpg', '1648168.jpg', '1786307.jpg', '1764519.png', '1672757.jpg', '1648418.jpg', '1799266.jpg', '1671714.png', '1763841.png', '1795556.jpg', '1654459.jpg', '1637275.jpg', '1787214.jpg', '1607919.jpg', '1742725.jpg', '1783458.jpg', '1665547.jpg', '1773835.jpg', '1787029.jpg', '1744553.jpg', '1646706.jpg', '1768359.jpg', '1506817.png', '1669998.png', '1665414.jpg', '1795289.jpg', '1673075.png', '1790503.jpg', '1773062.jpg', '1791536.jpg', '1781991.jpg', '1781992.jpg', '1789484.jpg', '1773961.jpg', '1796829.jpg', '1754726.jpg', '1797748.jpg', '1635140.png', '1764336.jpg', '1671241.jpg', '1756164.jpg', '1671679.jpg', '1766335.jpg', '1787743.png', '1792099.png', '1756156.jpg', '1745738.jpg', '1768674.png', '1754311.jpg', '1625815.jpg', '1667953.jpg', '1586459.png', '1784499.jpg', '1776948.jpg', '1670093.png', '1670593.jpg', '1787675.jpg', '1767490.jpg', '1643316.jpg', '1757672.jpg', '1764260.jpg', '1667797.jpg', '1759064.jpg', '1645713.jpg', '1799446.jpg', '1655964.jpg', '1781069.jpg', '1728145.png', '1727006.jpg', '1758115.png', '1658762.jpg', '1662260.png', '1772993.jpg', '1666577.jpg', '1666730.jpg', '1652441.jpg', '1772065.jpg', '1633494.jpg', '1766548.jpg', '1645788.jpg', '1773776.jpg', '1792129.png', '1637812.jpg', '1755120.jpg', '1630900.jpg', '1611158.png', '1801712.png', '1726778.jpg', '1792826.jpg', '1641713.jpg', '1758044.png', '1663872.jpg', '1757572.jpg', '1772941.png', '1653548.jpg', '1802051.png', '1627293.jpg', '1786187.jpg', '1792837.jpg', '1738827.jpg', '1659583.jpg', '1768235.png', '1629064.jpg', '1586166.png', '1659402.jpg', '1783432.jpg', '1799321.png', '1654668.png', '1776740.jpg', '1728155.png', '1734157.jpg', '1801317.png', '1643177.png', '1768380.png', '1798031.jpg', '1641821.jpg', '1744682.jpg', '1773932.jpg', '1795447.jpg', '1652386.jpg', '1734683.jpg', '1792392.png', '1613828.png', '1756170.jpg', '1662841.jpg', '1735496.jpg', '1668792.jpg', '1667859.jpg', '1756817.jpg', '1639004.jpg', '1789714.jpg', '1618477.png', '1662746.jpg', '1787260.jpg', '1661859.jpg', '1778007.jpg', '1799276.png', '1754090.png', '1602559.png', '1756065.jpg', '1660923.jpg', '1777164.jpg', '1758870.jpg', '1666848.jpg', '1757482.png', '1748578.png', '1636948.jpg', '1670442.png', '1783415.jpg', '1658635.jpg', '1654458.jpg', '1792126.png', '1654701.png', '1586146.png', '1767629.png', '1763747.png', '1624339.jpg', '1796825.jpg', '1780828.jpg', '1802171.png', '1657267.jpg', '1639142.jpg', '1781073.jpg', '1774034.jpg', '1801375.png', '1773440.png', '1644115.jpg', '1787667.jpg', '1767464.jpg', '1756872.jpg', '1777043.jpg', '1668929.jpg', '1797806.jpg', '210419-164.jpg', '1801872.png', '1796759.jpg', '1789520.jpg', '1758672.png', '1749540.jpg', '1762521.jpg', '1791603.jpg', '1793797.jpg', '1783274.png', '1797913.jpg', '1795403.jpg', '1761365.jpg', '1770330.jpg', '1667550.jpg', '1802143.png', '1770313.jpg', '1625877.jpg', '1586277.png', '1738389.jpg', '1801881.png', '1665519.jpg', '1667749.jpg', '1611269.jpg', '1671190.png', '1523594.png', '1758742.jpg', '1779284.jpg', '1786070.png', '1787232.jpg', '1761299.jpg', '1787254.jpg', '1779074.jpg', '1763837.png', '1787098.jpg', '1767403.jpg', '1632378.jpg', '1764287.jpg', '1646948.jpg', '1758123.jpg', '1671203.jpg', '1606335.jpg', '1659623.jpg', '1791577.jpg', '1792841.png', '1659875.jpg', '1665333.jpg', '1658728.jpg', '1777049.jpg', '1790395.jpg', '1793982.jpg', '1701458.png', '1801636.png', '1754702.jpg', '1790787.png', '1783334.jpg', '1668830.jpg', '1659461.jpg', '1765409.jpg', '1670090.png', '1774819.png', '1788817.jpg', '1668802.jpg', '1624372.jpg', '1783384.jpg', '1655694.jpg', '1801452.png', '1667911.jpg', '1601688.jpg', '1650832.jpg', '1780580.jpg', '1641892.jpg', '1784564.jpg', '1673070.png', '1770231.jpg', '1772127.jpg', '1672780.jpg', '1653397.jpg', '1789577.jpg', '1672772.jpg', '1792202.png', '1784480.jpg', '1789526.jpg', '1663908.jpg', '1776987.jpg', '1602649.png', '1731467.jpg', '1666615.jpg', '1789522.jpg', '1780269.png', '1674015.png', '1791994.png', '1672825.png', '1799345.jpg', '1637704.jpg', '1592482.png', '1614214.png', '1626670.png', '1790476.jpg', '1799417.jpg', '210537-46.jpg', '1786294.jpg', '1608012.jpg', '1637756.jpg', '1619092.jpg', '1780937.jpg', '1784619.jpg', '1753743.jpg', '1620618.jpg', '1784491.jpg', '1643063.jpg', '1761158.jpg', '1645584.jpg', '1639072.jpg', '1780682.jpg', '1756922.png', '1800559.jpg', '1792815.jpg', '1767625.jpg', '1655367.png', '1586149.png', '1749454.jpg', '1799217.jpg', '1665239.jpg', '1801711.png', '1790668.jpg', '1663855.jpg', '1757761.jpg', '1767626.jpg', '1761168.jpg', '1666616.jpg', '1658624.jpg', '1755953.jpg', '1667752.jpg', '1659644.jpg', '1799273.jpg', '1790501.jpg', '1799541.jpg', '1643196.jpg', '1779146.jpg', '1632359.jpg', '1800492.jpg', '1746704.jpg', '1662780.jpg', '1618645.png', '1648154.jpg', '1781013.jpg', '1733623.jpg', '1640444.jpg', '1640439.jpg', '1767606.jpg', '1801472.png', '1665119.jpg', '1787146.jpg', '1637571.png', '1662901.jpg', '1801700.png', '1776131.jpg', '1636654.png', '1784496.jpg', '1664989.png', '1655884.png', '1659886.jpg', '1752600.png', '1777017.jpg', '1666448.jpg', '1791494.jpg', '1799066.png', '1671690.jpg', '1778090.jpg', '1769138.jpg', '1778117.jpg', '1631695.jpg', '1637769.jpg', '1743599.jpg', '1723579.jpg', '1657380.jpg', '1670550.jpg', '1663716.png', '1637685.jpg', '1644005.png', '1762428.png', '1768925.jpg', '1655327.png', '1792138.png', '1784590.jpg', '1655326.png', '1777015.jpg', '1592422.png', '1667943.jpg', '1780941.jpg', '1648380.jpg', '1760018.jpg', '1779272.png', '1791498.jpg', '1745697.jpg', '1797992.jpg', '1624615.jpg', '1795375.jpg', '1625949.png', '1667669.jpg', '1757760.jpg', '1630831.jpg', '1786073.jpg', '1653523.jpg', '1783305.jpg', '1756946.jpg', '1770736.jpg', '1667908.jpg', '1748550.png', '1760267.jpg', '1662487.jpg', '1802062.png', '1757750.jpg', '1662919.jpg', '1786099.jpg', '1799163.jpg', '1748562.png', '1640484.jpg', '1797914.jpg', '1734680.png', '1627776.jpg', '1786293.jpg', '1780798.jpg', '1658592.jpg', '1653501.jpg', '1773020.jpg', '1792926.jpg', '1773974.jpg', '1753646.jpg', '1660927.jpg', '1795438.jpg', '1637754.jpg', '1778102.jpg', '1658184.jpg', '1776021.jpg', '1790736.png', '1766192.jpg', '1599690.jpg', '1774814.jpg', '1801721.png', '1792964.jpg', '1655988.jpg', '1773136.png', '1772128.jpg', '1662618.jpg', '1761169.jpg', '1792253.png', '1799543.jpg', '1776897.jpg', '1639138.jpg', '1759047.jpg', '1779247.jpg', '1801466.png', '1667909.jpg', '1663940.jpg', '1665466.jpg', '1780146.png', '1766274.jpg', '1672798.jpg', '1657010.jpg', '1775688.jpg', '1773088.png', '1714877.jpg', '1658141.jpg', '1665431.jpg', '1780759.jpg', '1761163.jpg', '1627749.jpg', '1637774.jpg', '1800486.jpg', '1801829.png', '1658278.jpg', '1649397.jpg', '1791566.jpg', '1792030.png', '1801873.png', '1652233.jpg', '1770713.jpg', '1789442.png', '1756924.jpg', '1780178.png', '1774025.jpg', '1801948.png', '1791610.jpg', '1778114.jpg', '1659310.jpg', '1767527.jpg', '1796662.jpg', '1790614.jpg', '1657035.jpg', '1758660.jpg', '1778043.jpg', '1598995.jpg', '1793794.jpg', '1793796.jpg', '1637765.jpg', '1687654.jpg', '1670179.png', '1793965.jpg', '1755279.jpg', '1646537.jpg', '1670030.png', '200688-354.jpg', '1662745.jpg', '1783651.jpg', '1721726.png', '1759063.png', '1759023.png', '1782254.png', '1635455.jpg', '1630387.jpg', '1629022.jpg', '1787210.jpg', '1659577.jpg', '1648369.jpg', '1787149.jpg', '1666881.jpg', '1671246.jpg', '1782057.jpg', '1661858.jpg', '1655896.jpg', '1694069.png', '1770261.jpg', '1781074.jpg', '1659894.jpg', '1582549.jpg', '1611136.png', '1658633.jpg', '1672214.jpg', '1586242.png', '1660958.jpg', '1801912.png', '1799440.jpg', '1741066.jpg', '1756059.jpg', '1790537.jpg', '1618783.jpg', '1756921.jpg', '1786961.jpg', '1775016.jpg', '1778110.png', '1773069.jpg', '1646782.jpg', '1637197.jpg', '1770757.jpg', '1798075.jpg', '1799135.png', '1665232.jpg', '1778020.jpg', '1792567.png', '1611429.jpg', '1656057.jpg', '1777268.jpg', '1747623.jpg', '1666807.jpg', '1762279.png', '1792630.png', '1772126.jpg', '1763317.jpg', '1744469.jpg', '1762423.jpg', '1770787.jpg', '1789455.png', '1766229.jpg', '1801616.png', '1790522.png', '1798065.jpg', '1667881.jpg', '1784413.jpg', '1672215.jpg', '1762522.jpg', '1757524.jpg', '1624219.jpg', '1780577.jpg', '1662739.jpg', '1655890.jpg', '1618306.png', '1763443.png', '1586179.png', '1792390.png', '1723330.jpg', '1671159.jpg', '1789491.jpg', '1776024.jpg', '1788591.jpg', '1792834.jpg', '1768778.png', '1739279.jpg', '1756062.jpg', '1624337.jpg', '1627343.jpg', '1670006.png', '1777183.jpg', '1792606.png', '200668-38.jpg', '1655664.jpg', '1746667.jpg', '1780157.png', '1625864.jpg', '1586297.png', '1586189.png', '1761232.png', '1633539.jpg', '1644162.png', '1777203.jpg', '1772919.png', '1801928.png', '1746455.jpg', '1659872.jpg', '1758822.jpg', '1631693.jpg', '1624223.jpg', '1654680.png', '1768250.png', '1793795.jpg', '1670181.png', '1639020.jpg', '1797624.jpg', '1488486.png', '1801263.png', '1662002.png', '1778116.png', '1768358.jpg', '1643994.png', '1779457.jpg', '1778092.jpg', '1653512.jpg', '1779262.jpg', '1586234.png', '1749719.jpg', '1653345.jpg', '1782256.jpg', '1647078.jpg', '1662869.jpg', '1648347.jpg', '1780871.jpg', '1632459.png', '1670001.png', '1776081.jpg', '1770749.jpg', '1637566.jpg', '210074-216.jpg', '1650820.jpg', '1799298.jpg', '1784365.jpg', '1781749.jpg', '1649864.jpg', '1656055.jpg', '1763395.jpg', '1766717.jpg', '1763356.jpg', '1644084.png', '1668743.png', '1787101.jpg', '1793981.jpg', '1801424.png', '1788376.jpg', '1799320.jpg', '1623109.jpg', '1799534.jpg', '1789583.png', '1669997.png', '1799189.png', '1592480.png', '1671216.jpg', '1799563.jpg', '1756969.png', '1659614.jpg', '1774837.jpg', '1659887.jpg', '1602671.png', '1774979.jpg', '1788744.jpg', '1754656.jpg', '1637854.jpg', '1774005.jpg', '1655373.png', '1792184.png', '1788569.jpg', '1652355.jpg', '1659824.jpg', '1788794.jpg', '1773024.jpg', '1756868.jpg', '1615785.jpg', '1757194.png', '1670172.png', '1774843.jpg', '1655312.png', '1799199.jpg', '1671219.jpg', '1791995.png', '1714864.jpg', '1625866.jpg', '1791462.jpg', '1780938.jpg', '1782442.jpg', '1668804.jpg', '1762526.jpg', '1655987.jpg', '1592444.png', '1780509.jpg', '1748812.jpg', '1672964.jpg', '1774898.jpg', '1756940.png', '1638912.jpg', '1610424.png', '1482278.png', '1756163.jpg', '1747492.jpg', '1773167.png', '1796723.jpg', '1802195.png', '1655404.png', '1675194.png', '1659861.png', '1799341.jpg', '1773092.jpg', '1607930.jpg', '1609129.png', '1743634.jpg', '1668634.jpg', '1801449.png', '1784712.jpg', '1793821.jpg', '1637810.png', '1780581.jpg', '1658664.jpg', '1644092.png', '1668852.jpg', '1671666.jpg', '1780809.jpg', '1789435.png', '1741648.jpg', '1779452.jpg', '1781014.jpg', '1635589.jpg', '1630193.jpg', '1786084.jpg', '1762231.jpg', '1751155.jpg', '1758710.png', '1624518.png', '1662700.jpg', '1757758.png', '1637589.jpg', '1658472.png', '1662629.jpg', '1621717.jpg', '1770630.png', '1760254.jpg', '1779004.jpg', '1787317.jpg', '1757754.jpg', '1656049.jpg', '1667871.jpg', '1738785.jpg', '1646815.jpg', '1790353.png', '1788764.png', '1790516.jpg', '1784645.jpg', '1655392.png', '1792246.png', '1787236.jpg', '1792594.png', '1628777.jpg', '1663836.jpg', '1586386.png', '1793826.jpg', '1784359.jpg', '1663849.jpg', '1758157.jpg', '1667788.jpg', '1767519.jpg', '1660867.jpg', '1618583.png', '1779277.jpg', '1780930.jpg', '1788617.jpg', '1780104.png', '1799450.jpg', '1792852.jpg', '1774913.jpg', '1670211.png', '1652337.jpg', '1798058.jpg', '1626720.png', '1637303.jpg', '1798100.jpg', '1796728.jpg', '1670541.jpg', '1761190.jpg', '1799576.jpg', '1789428.jpg', '1766272.jpg', '1790563.jpg', '1724316.jpg', '1638407.png', '1783565.jpg', '1768361.jpg', '1758929.png', '1783563.jpg', '1662807.png', '1657147.jpg', '1755172.png', '1797943.jpg', '1787208.jpg', '1786222.jpg', '1783288.jpg', '1785836.jpg', '1758378.jpg', '1658395.jpg', '1655300.png', '1783528.jpg', '1772103.jpg', '1641489.png', '1653529.jpg', '1625679.jpg', '1757559.png', '1801977.png', '1798027.jpg', '1643062.jpg', '1758905.jpg', '1755230.jpg', '1793924.jpg', '1744804.jpg', '1667851.jpg', '1767766.jpg', '1667672.jpg', '1762653.jpg', '1787150.jpg', '1763296.png', '1779416.jpg', '1764681.png', '1657190.jpg', '1506803.png', '1754051.png', '1770350.jpg', '1778093.jpg', '1778100.jpg', '1523592.png', '1784546.jpg', '1662887.jpg', '1649784.jpg', '1648185.jpg', '1648396.jpg', '1780582.jpg', '1668647.png', '1782277.jpg', '1788504.jpg', '1746496.jpg', '1647522.png', '1646908.jpg', '1634792.jpg', '1790397.png', '1672610.png', '1741629.jpg', '1777105.jpg', '1769205.jpg', '1592535.png', '1757720.jpg', '1740400.jpg', '1792596.png', '1764688.png', '1658675.jpg', '1666505.jpg', '1757741.jpg', '1801451.png', '1637741.jpg', '1641644.jpg', '1656023.jpg', '1661023.jpg', '1787678.jpg', '1745538.jpg', '1762319.jpg', '1649734.jpg', '1627009.png', '1789806.jpg', '1649571.jpg', '1798032.jpg', '1657258.jpg', '1788728.jpg', '1637815.png', '1786209.jpg', '1775006.jpg', '1780864.jpg', '1766094.jpg', '1670581.jpg', '1779267.jpg', '1751206.jpg', '1778111.jpg', '1732447.png', '1772396.png', '1649780.jpg', '1764392.jpg', '1787235.jpg', '1513169.jpg', '1751315.jpg', '1745819.png', '1627801.jpg', '1773082.png', '1801866.png', '1788720.jpg', '1746584.jpg', '1778397.jpg', '1769190.png', '1799202.jpg', '1784862.jpg', '1780722.jpg', '1784874.jpg', '1774931.jpg', '1672163.jpg', '1762422.jpg', '1799313.jpg', '1769148.jpg', '1789457.png', '1767726.jpg', '1641910.jpg', '1760022.jpg', '1786186.jpg', '1660964.jpg', '1658471.jpg', '1763461.png', '1650883.jpg', '1641295.jpg', '1602647.png', '1778073.jpg', '1785979.png', '1656018.jpg', '1792266.png', '1747587.jpg', '1787634.jpg', '1621840.jpg', '1523593.png', '1764366.jpg', '1776939.jpg', '1645390.png', '1576255.png', '1655318.png', '1788570.jpg', '1665044.jpg', '1784742.jpg', '1778035.jpg', '1801730.png', '1606458.jpg', '1665231.jpg', '1668835.jpg', '1586161.png', '1639073.jpg', '1786217.jpg', '1757403.jpg', '1595338.jpg', '1789492.png', '1747627.jpg', '1788793.jpg', '1802149.png', '1764367.png', '1755316.jpg', '1756174.jpg', '1773966.jpg', '1786927.jpg', '1623143.jpg', '1614464.jpg', '1783497.jpg', '1658693.jpg', '1789382.jpg', '1662340.jpg', '1792159.png', '1652264.jpg', '1611492.jpg', '1592558.png', '1776018.jpg', '1672794.jpg', '1629047.jpg', '1760016.jpg', '1645810.jpg', '1654519.png', '1667842.jpg', '1648481.jpg', '1655281.png', '1638926.jpg', '1686032.jpg', '1795353.jpg', '1643191.jpg', '1793581.jpg', '1754683.jpg', '1755407.jpg', '1748955.jpg', '1782123.jpg', '1598091.png', '1653498.jpg', '1742310.jpg', '1658774.jpg', '1566576.jpg', '1787266.png', '1592387.png', '1791500.jpg', '1641997.jpg', '1768317.png', '1630376.jpg', '1638916.jpg', '1667715.jpg', '1790832.jpg', '1796311.jpg', '1659890.png', '1776990.jpg', '1758762.png', '1756992.jpg', '1802058.png', '1779279.jpg', '1666750.jpg', '1669926.png', '1777018.jpg', '1764316.jpg', '1758755.jpg', '1774855.jpg', '1637122.jpg', '1641665.jpg', '1755250.jpg', '1659667.jpg', '1666869.png', '1667947.jpg', '1791996.png', '1760095.jpg', '1731470.jpg', '1734663.jpg', '1665088.jpg', '1755270.jpg', '1663858.jpg', '1637847.png', '1791553.jpg', '1672805.jpg', '1635067.jpg', '1621834.jpg', '1656865.jpg', '1750690.png', '1787097.jpg', '1778029.jpg', '1668727.jpg', '1644004.png', '1655803.jpg', '1760864.jpg', '1800388.jpg', '1656064.jpg', '1664837.png', '1776070.jpg', '1774901.jpg', '1769068.jpg', '1784623.png', '1662035.png', '1801690.png', '1586445.png', '1800517.jpg', '1768512.png', '1657399.png', '1786298.jpg', '1780794.jpg', '1635580.jpg', '1640356.jpg', '1630512.jpg', '1659388.jpg', '1603754.jpg', '1799224.jpg', '1769178.jpg', '1779373.png', '1780072.png', '1655856.jpg', '1765405.jpg', '1801444.png', '1772037.jpg', '1787692.jpg', '1770689.jpg', '1640477.jpg', '1774887.jpg', '1780510.jpg', '1781015.jpg', '1760187.jpg', '1760132.jpg', '1643259.jpg', '1778071.jpg', '1774851.jpg', '1787346.png', '1763548.jpg', '1586412.png', '1773012.jpg', '1795512.jpg', '1790362.png', '1801453.png', '1665526.jpg', '1760272.jpg', '1729060.png', '1801703.png', '1792562.png', '1791486.jpg', '1758166.png', '1742776.jpg', '1790280.jpg', '1802215.png', '1662891.jpg', '1659871.jpg', '1665492.jpg', '1643060.jpg', '1775103.jpg', '1773099.jpg', '1747621.jpg', '1782354.jpg', '1793825.jpg', '1770650.png', '1635138.jpg', '1648368.jpg', '1800542.jpg', '1748577.png', '1648069.jpg', '1788752.jpg', '1641845.jpg', '1638973.jpg', '1766331.jpg', '1655302.png', '1661902.png', '1665173.jpg', '1784353.jpg', '1756823.png', '1774800.jpg', 'Eco Diamond LG200296.png', '1592435.png', '1787360.jpg', '1637304.jpg', '1541258.png', '1795350.png', '1681458.jpg', '1648374.jpg', '1607589.jpg', '1787353.jpg', '1779153.jpg', '1779293.jpg', '1663904.jpg', '1775934.jpg', '1791545.jpg', '1772238.png', '1657359.jpg', '1645743.jpg', '1783445.jpg', '1650736.jpg', '1666876.jpg', '1768451.png', '1670007.png', '1762517.jpg', '1752594.jpg', '1767623.jpg', '1780249.png', '1670182.png', '1658582.jpg', '1671220.jpg', '1735493.png', '1801448.png', '1801261.png', '200702-113.jpg', '1722366.jpg', '1655317.png', '1637459.jpg', '1650835.jpg', '1779352.jpg', '1647575.png', '1801967.png', '1653525.jpg', '1795418.jpg', '1661021.jpg', '1792136.png', '1779559.jpg', '1798125.jpg', '1746456.jpg', '1627029.png', '1763842.png', '1788748.jpg', '1658519.jpg', '1787309.jpg', '1671675.jpg', '1786082.png', '1633435.jpg', '1779558.jpg', '1666886.jpg', '1660933.jpg', '1663734.png', '1742844.jpg', '1657281.jpg', '1749771.jpg', '1662858.jpg', '1798021.jpg', '1763381.jpg', '1773086.jpg', '1630708.jpg', '1791517.jpg', '1670094.png', '1744895.jpg', '1788749.jpg', '1574509.jpg', '1778158.jpg', '1769235.png', '1645475.png', '1659626.jpg', '1754037.png', '1756942.jpg', '1592410.png', '1734156.jpg', '1787680.jpg', '1660847.jpg', '1577155.jpg', '1659647.jpg', '1786275.jpg', '1666867.jpg', '1790793.jpg', '1751238.jpg', '1783335.jpg', '1790778.jpg', '1641898.jpg', '1653505.jpg', '1766599.jpg', '1669914.png', '1637432.jpg', '1784854.jpg', '1652201.jpg', '1658378.jpg', '1786252.jpg', '1659693.jpg', '1640441.jpg', '1668819.jpg', '1775700.jpg', '1655287.png', '1632279.jpg', '1669994.png', '1764679.png', '1763748.png', '1665210.jpg', '1671189.png', '1663932.jpg', '1586385.png', '1795157.jpg', '1791453.jpg', '1621775.jpg', '1777972.jpg', '1643985.png', '1768416.png', '1674014.png', '1801879.png', '1663850.jpg', '1672209.jpg', '1759230.png', '1780859.jpg', '1662041.png', '1655933.jpg', '1752661.jpg', '1790479.jpg', '1773352.jpg', '1648075.jpg', '1730294.jpg', '1672715.jpg', '1783437.jpg', '1670002.png', '1641687.png', '1787334.png', '1647092.jpg', '1780934.jpg', '1778023.png', '1784572.jpg', '1756874.jpg', '1778049.jpg', '1747453.jpg', '1654683.png', '1777904.jpg', '1574782.jpg', '1775989.jpg', '1793876.jpg', '1639175.jpg', '1673123.png', '1747607.jpg', '1637676.jpg', '1654548.png', '1652378.jpg', '1792254.png', '1668890.jpg', '1801450.png', '1668741.jpg', '1784384.jpg', '1780917.jpg', '1796686.jpg', '1789633.jpg', '1656045.jpg', '1659646.jpg', '1666582.jpg', '1724353.jpg', '1748396.png', '1790493.jpg', '1718386.jpg', '1788601.jpg', '1795486.jpg', '1801716.png', 'Eco Diamond LG200661.png', '1592396.png', '1772772.jpg', '1768701.png', '1672816.jpg', '1758873.jpg', '1643333.jpg', '1621852.jpg', '1672738.jpg', '1795347.jpg', '1629019.jpg', '1650863.jpg', '1775840.jpg', '1665447.jpg', '1790579.jpg', '1787581.jpg', '1732550.png', '1759053.png', '1645860.jpg', '1790510.jpg', '1748956.jpg', '1776865.jpg', '210251-143.jpg', '1779292.png', '1756937.jpg', '1663713.jpg', '1771970.jpg', '1637124.jpg', '1620352.png', '1799318.jpg', '1630796.jpg', '1647523.png', '1772236.jpg', '1774026.jpg', '1774856.jpg', '1763227.png', '1658445.jpg', '1764401.png', '1649671.jpg', '1793860.jpg', '1643238.jpg', '1774923.jpg', '1776837.jpg', '1787247.jpg', '1649652.jpg', '1668812.jpg', '1773213.jpg', '1783695.jpg', '200761-77.jpg', '1667963.jpg', '1618589.png', '1764361.jpg', '1795313.jpg', '1792165.png', '1635583.jpg', '1790519.jpg', '1777292.jpg', '1749651.jpg', '1773406.jpg', '1801637.png', '1768338.jpg', '1784542.jpg', '1663827.jpg', '1790625.jpg', '1762530.jpg', '1790439.jpg', '1673078.png', '1665461.png', '1780725.jpg', '1801433.png', '1670127.png', '1773103.jpg', '1670004.png', '1776135.jpg', '1784167.jpg', '1647521.png', '1780193.png', '1791445.jpg', '1751188.jpg', '1778076.jpg', '1767622.jpg', '1796801.jpg', '1777992.jpg', '1745577.png', '1648275.jpg', '1784570.jpg', '1697968.jpg', '1770761.png', '1639128.jpg', '1772351.jpg', '1801464.png', '1639255.png', '1670203.png', '1779282.jpg', '210074-276.jpg', '1732223.jpg', '1787352.jpg', '1769175.jpg', '1786391.jpg', '1801702.png', '1662447.jpg', '1667885.jpg', '1792586.png', '1641426.jpg', '1643189.jpg', '1592562.jpg', '1659595.png', '1627722.jpg', '1743431.jpg', '1776028.jpg', '1633473.jpg', '1641372.jpg', '1769446.png', '1787387.jpg', '1770845.jpg', '1791368.jpg', '1632273.jpg', '1726552.jpg', '1777973.jpg', '1790719.jpg', '1654679.png', '1670153.png', '1656852.jpg', '1745711.jpg', '1773952.jpg', '1801594.png', '1766292.jpg', '1764469.png', '1788864.jpg', '1790626.jpg', '1787357.jpg', '1790512.jpg', '1767619.jpg', '1655617.jpg', '1612979.jpg', '1662563.jpg', '1762382.png', '1659675.jpg', '1755262.jpg', '1749705.png', '1778027.png', '1784304.jpg', '1592557.png', '1663666.jpg', '1645869.jpg', '1763365.jpg', '1775701.jpg', '1655405.png', '1787256.jpg', '1663896.jpg', '1662801.jpg', '1758159.jpg', '1655731.jpg', '1796633.png', '1762506.jpg', '1756165.jpg', '1592408.png', '1788753.jpg', '1657204.jpg', '1637843.jpg', '1643992.png', '1760135.jpg', '1663804.jpg', '1741591.jpg', '1630321.jpg', '1783286.jpg', '1598738.png', '1671237.jpg', '1663831.jpg', '1662896.jpg', '1621801.jpg', '1776848.jpg', '1801508.png', '1633405.jpg', '1667671.jpg', '1779418.png', '1789340.jpg', '1586114.png', '1621754.jpg', '1659713.jpg', '1753398.jpg', '1556485.png', '1791628.jpg', '1657065.jpg', '1792135.png', '1659465.jpg', '1756250.jpg', '1623115.jpg', '1801976.png', '1795349.jpg', '1788677.jpg', '1757765.png', '1775074.jpg', '1799160.jpg', '1633491.jpg', '1801457.png', '1767617.jpg', '1755999.jpg', '1758775.jpg', '1672777.jpg', '1627002.png', '1784417.jpg', '1766492.jpg', '1784482.jpg', '1788788.jpg', '1668766.jpg', '1704549.jpg', '1665371.jpg', '1802285.png', '1637397.jpg', '1648465.jpg', '1741469.jpg', '1658656.jpg', '1801705.png', '1791706.jpg', '1780868.jpg', '1758883.jpg', '1672125.jpg', '1780818.jpg', '1652403.jpg', '1653343.jpg', '1795359.jpg', '1640413.jpg', '1614381.jpg', '1641690.jpg', '1635520.jpg', '1790741.jpg', '1799222.jpg', '1758636.jpg', '1673018.png', '1670544.jpg', '1746813.jpg', '1769140.jpg', '1592549.png', '1755274.jpg', '1780932.jpg', '1639040.jpg', '1632447.jpg', '1659843.jpg', '1659880.jpg', '1646571.jpg', '1643058.jpg', '1625807.jpg', '1637690.jpg', '1802142.png', '1792634.png', '1795483.png', '1799302.jpg', '1665527.jpg', '1665302.jpg', '1790480.jpg', '1768602.png', '1759674.jpg', '1802265.png', '1758974.jpg', '1643243.jpg', '1586336.png', '1772163.png', '1790500.jpg', '1780936.jpg', '1791997.png', '1779275.jpg', '1755978.jpg', '1632212.jpg', '1733712.jpg', '1763412.png', '1755454.jpg', '1798946.jpg', '1795456.jpg', '1758393.jpg', '1747454.jpg', '1787221.jpg', '1755998.jpg', '1780681.jpg', '1791613.jpg', '1746673.jpg', '1747550.jpg', '1665237.jpg', '1761237.jpg', '1764364.jpg', '1671712.jpg', '1659895.jpg', '1745431.jpg', '1669884.png', '1780834.jpg', '1650714.jpg', '1770158.jpg', '1783300.jpg', '1772009.jpg', '1655866.jpg', '1630560.jpg', '1793966.jpg', '1801688.png', '1787124.jpg', '1795414.jpg', '1797722.jpg', '1656025.jpg', '1758706.png', '1658476.jpg', '1769145.jpg', '1758652.jpg', '1788701.jpg', '1757565.jpg', '1789680.jpg', '1663938.jpg', '1780077.png', '1786107.jpg', '1792317.png', '1782126.png', '1657300.jpg', '1631678.jpg', '1760023.jpg', '1791384.jpg', '1774052.jpg', '1624176.jpg', '1621760.jpg', '1646816.jpg', '1790477.jpg', '1776695.jpg', '1646867.jpg', '1782478.jpg', '1784446.jpg', '1753698.jpg', '1758855.jpg', '1762464.jpg', '1766403.jpg', '1670176.png', '1769049.jpg', '1670187.png', '1655909.jpg', '1771986.jpg', '1757722.png', '1778196.jpg', '1777988.png', '1768389.png', '1801460.png', '1653444.jpg', '1792955.jpg', '1790437.jpg', '1801467.png', '1753716.png', '1777999.jpg', '1659882.jpg', '1784431.jpg', '1640384.jpg']\n"
     ]
    }
   ],
   "source": [
    "print(os.listdir('/home/levi/Desktop/Work/Diamond Project/Diamonds2/images/round'))"
   ]
  },
  {
   "cell_type": "markdown",
   "metadata": {},
   "source": [
    "All the photos that do not contain images of a diamond- the no preview images- are png files, while the rest that actually do contain images of a diamond are jpg files. <br>\n",
    "Hence we will delete all the images from the dataset are marked as png. "
   ]
  },
  {
   "cell_type": "code",
   "execution_count": 19,
   "metadata": {},
   "outputs": [],
   "source": [
    "def delete_png_files(folder_path):\n",
    "    \n",
    "    for filename in os.listdir(folder_path):\n",
    "        if filename.endswith('.png'):\n",
    "            \n",
    "            file_path = os.path.join(folder_path, filename)\n",
    "            "
   ]
  },
  {
   "cell_type": "markdown",
   "metadata": {},
   "source": [
    "https://capitalwholesalediamonds.com/ <br>\n",
    "\n",
    "Scrape this website and make a new dataset. 21000 images \n",
    "\n"
   ]
  }
 ],
 "metadata": {
  "kernelspec": {
   "display_name": "vsjupes",
   "language": "python",
   "name": "vsjupes"
  },
  "language_info": {
   "codemirror_mode": {
    "name": "ipython",
    "version": 3
   },
   "file_extension": ".py",
   "mimetype": "text/x-python",
   "name": "python",
   "nbconvert_exporter": "python",
   "pygments_lexer": "ipython3",
   "version": "3.11.2"
  }
 },
 "nbformat": 4,
 "nbformat_minor": 2
}
