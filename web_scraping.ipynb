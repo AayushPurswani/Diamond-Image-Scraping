{
 "cells": [
  {
   "cell_type": "markdown",
   "metadata": {},
   "source": [
    "Python Notebook to web scrape and make the dataset. \n"
   ]
  },
  {
   "cell_type": "code",
   "execution_count": 1,
   "metadata": {},
   "outputs": [],
   "source": [
    "# All the pip install statements go here."
   ]
  },
  {
   "cell_type": "code",
   "execution_count": 2,
   "metadata": {},
   "outputs": [],
   "source": [
    "# All the import statements go here. \n",
    "\n",
    "import os \n",
    "import requests\n",
    "from bs4 import BeautifulSoup\n",
    "from urllib.parse import urljoin"
   ]
  },
  {
   "cell_type": "code",
   "execution_count": 29,
   "metadata": {},
   "outputs": [
    {
     "name": "stdout",
     "output_type": "stream",
     "text": [
      "2052906\n",
      "2138128\n",
      "2049308\n",
      "2030081\n",
      "2127491\n",
      "2021344\n",
      "2113987\n",
      "2084356\n",
      "2061745\n",
      "2049418\n",
      "2103653\n",
      "1970097\n",
      "2125086\n",
      "2086000\n",
      "2123187\n"
     ]
    }
   ],
   "source": [
    "base_url = \"https://capitalwholesalediamonds.com/product-category/round/\"\n",
    "response = requests.get(base_url)\n",
    "soup = BeautifulSoup(response.content, 'html.parser')\n",
    "div_product_numbers = soup.find_all('div', class_ = 'short-description list')\n",
    "\n",
    "for product_number in div_product_numbers:\n",
    "    \n",
    "    number = product_number.text.strip()\n",
    "    print(number)\n"
   ]
  },
  {
   "cell_type": "markdown",
   "metadata": {},
   "source": [
    "Figured out how to extract the product numbers to use them as an identification key, now to learn how to extract the images. \n"
   ]
  },
  {
   "cell_type": "code",
   "execution_count": 50,
   "metadata": {},
   "outputs": [],
   "source": [
    "if not os.path.exists('web_scraped/Round/Images'):\n",
    "    os.makedirs('web_scraped/Round/Images')"
   ]
  },
  {
   "cell_type": "code",
   "execution_count": 46,
   "metadata": {},
   "outputs": [],
   "source": [
    "product_divs = soup.find_all('div', class_ = 'ftc-product product')\n",
    "\n",
    "for product_div in product_divs:\n",
    "    \n",
    "    product_url = (product_div.find('a')).get('href')\n",
    "    response = requests.get(product_url)\n",
    "    product_page = BeautifulSoup(response.content, 'html.parser')\n",
    "    \n",
    "    "
   ]
  }
 ],
 "metadata": {
  "kernelspec": {
   "display_name": "vsjupes",
   "language": "python",
   "name": "vsjupes"
  },
  "language_info": {
   "codemirror_mode": {
    "name": "ipython",
    "version": 3
   },
   "file_extension": ".py",
   "mimetype": "text/x-python",
   "name": "python",
   "nbconvert_exporter": "python",
   "pygments_lexer": "ipython3",
   "version": "3.11.2"
  },
  "orig_nbformat": 4
 },
 "nbformat": 4,
 "nbformat_minor": 2
}
